{
 "cells": [
  {
   "cell_type": "markdown",
   "id": "a01e1325",
   "metadata": {},
   "source": [
    "# Week 4: Recursive Function"
   ]
  },
  {
   "cell_type": "markdown",
   "id": "fa006e03",
   "metadata": {},
   "source": [
    "ฟังก์ชั่นที่เรียกใช้ตัวเอง"
   ]
  },
  {
   "cell_type": "code",
   "execution_count": 9,
   "id": "800642ee",
   "metadata": {},
   "outputs": [],
   "source": [
    "def f():\n",
    "    print(\"Hello\")\n",
    "    return f()"
   ]
  },
  {
   "cell_type": "code",
   "execution_count": null,
   "id": "3833dd00",
   "metadata": {},
   "outputs": [],
   "source": [
    "f()"
   ]
  },
  {
   "cell_type": "markdown",
   "id": "8ccedf2e",
   "metadata": {},
   "source": [
    "$n!=n \\times (n-1) \\times (n-2) \\times ... \\times 2 \\times 1$"
   ]
  },
  {
   "cell_type": "markdown",
   "id": "a50459f3",
   "metadata": {},
   "source": [
    "$n! = n \\times (n-1)!$"
   ]
  },
  {
   "cell_type": "markdown",
   "id": "20e64d06",
   "metadata": {},
   "source": [
    "`factorial(n) = n x factorial(n-1)`"
   ]
  },
  {
   "cell_type": "markdown",
   "id": "168bcf1c",
   "metadata": {},
   "source": [
    "$6!=6 \\times 5 \\times 4 \\times 3 \\times 2 \\times 1 = 720$"
   ]
  },
  {
   "cell_type": "markdown",
   "id": "8b742d14",
   "metadata": {},
   "source": [
    "$1! = 1$ \\\n",
    "$0! = 1$"
   ]
  },
  {
   "cell_type": "code",
   "execution_count": 13,
   "id": "4f43d0eb",
   "metadata": {},
   "outputs": [],
   "source": [
    "def factorial(n):\n",
    "    # base case\n",
    "    if n == 1:\n",
    "        return 1\n",
    "    return n * factorial(n-1)"
   ]
  },
  {
   "cell_type": "markdown",
   "id": "f8feb335",
   "metadata": {},
   "source": [
    "$4 \\times 3! = 4 \\times 3 \\times 2! = 4 \\times 3 \\times 2 \\times 1! = 4 \\times 3 \\times 2 \\times 1 $"
   ]
  },
  {
   "cell_type": "code",
   "execution_count": 15,
   "id": "890a450b",
   "metadata": {},
   "outputs": [
    {
     "data": {
      "text/plain": [
       "24"
      ]
     },
     "execution_count": 15,
     "metadata": {},
     "output_type": "execute_result"
    }
   ],
   "source": [
    "factorial(4)"
   ]
  },
  {
   "cell_type": "markdown",
   "id": "8bb95fd3",
   "metadata": {},
   "source": [
    "### Fibonacci Sequence"
   ]
  },
  {
   "cell_type": "markdown",
   "id": "84bd49b1",
   "metadata": {},
   "source": [
    "$1,1,2,3,5,8,13,21,34,55,...$"
   ]
  },
  {
   "cell_type": "markdown",
   "id": "59019026",
   "metadata": {},
   "source": [
    "$Fibo(1)=1$\\\n",
    "$Fibo(2)=1$\\\n",
    "$Fibo(3)=2$\\\n",
    "$Fibo(4)=3$\\\n",
    "$Fibo(5)=5$\\\n",
    "$Fibo(11)=89$\\\n",
    "$Fibo(x)=Fibo(x-1)+Fibo(x-2)$"
   ]
  },
  {
   "cell_type": "code",
   "execution_count": null,
   "id": "f1ec1cf4",
   "metadata": {},
   "outputs": [],
   "source": [
    "def fibo(n: int) -> int:\n",
    "     if n == 1:\n",
    "         return 1\n",
    "     \n",
    "     if n == 2:\n",
    "         return 1\n",
    "     return fibo(n-1) + fibo(n-2)"
   ]
  },
  {
   "cell_type": "markdown",
   "id": "9e090c68",
   "metadata": {},
   "source": [
    "ช้า เพราะเกิด Recusive Tree"
   ]
  },
  {
   "cell_type": "markdown",
   "id": "bf70ee6c",
   "metadata": {},
   "source": [
    "$fibo(7)=fibo(6)+fibo(5)$"
   ]
  },
  {
   "cell_type": "markdown",
   "id": "9aa93489",
   "metadata": {},
   "source": [
    "### Dynamic Programming (dp)"
   ]
  },
  {
   "cell_type": "code",
   "execution_count": null,
   "id": "f7d39f66",
   "metadata": {},
   "outputs": [],
   "source": [
    "def fibo_dp(n):\n",
    "    dp = [0 for _ in range(n)] # [1, 1, 2, 3, 5, ..., 0]\n",
    "    dp[0] = 1\n",
    "    dp[1] = 1\n",
    "    for i in range(2, n):\n",
    "        dp[i] = dp[i-1] + dp[i-2]\n",
    "    \n",
    "    return dp[i]"
   ]
  },
  {
   "cell_type": "code",
   "execution_count": 3,
   "id": "0cb95e20",
   "metadata": {},
   "outputs": [
    {
     "name": "stdout",
     "output_type": "stream",
     "text": [
      "2.193450927734375e-05 0.0001888275146484375\n"
     ]
    }
   ],
   "source": [
    "import time\n",
    "t1 = time.time()\n",
    "# fibo(40)\n",
    "t2 = time.time()\n",
    "fibo_dp(1000)\n",
    "t3 = time.time()\n",
    "print(t2-t1, t3-t2)"
   ]
  },
  {
   "cell_type": "markdown",
   "id": "3ab45390",
   "metadata": {},
   "source": [
    "### Literal"
   ]
  },
  {
   "cell_type": "code",
   "execution_count": null,
   "id": "a0a1c504",
   "metadata": {},
   "outputs": [
    {
     "data": {
      "text/plain": [
       "19.675166853130666"
      ]
     },
     "execution_count": 9,
     "metadata": {},
     "output_type": "execute_result"
    }
   ],
   "source": [
    "def calculate_bmi(height_cm: float, weight_kg: float) -> float:\n",
    "    bmi = weight_kg / ((height_cm / 100) ** 2)\n",
    "    return bmi\n",
    "\n",
    "calculate_bmi(161, 51)"
   ]
  },
  {
   "cell_type": "code",
   "execution_count": null,
   "id": "b5ac81aa",
   "metadata": {},
   "outputs": [
    {
     "data": {
      "text/plain": [
       "'Vetit'"
      ]
     },
     "execution_count": 10,
     "metadata": {},
     "output_type": "execute_result"
    }
   ],
   "source": [
    "def f(name: str) -> str:\n",
    "    return name.capitalize() \n",
    "\n",
    "f(\"vetit\")"
   ]
  },
  {
   "cell_type": "code",
   "execution_count": null,
   "id": "66b213dd",
   "metadata": {},
   "outputs": [],
   "source": []
  }
 ],
 "metadata": {
  "kernelspec": {
   "display_name": "python3",
   "language": "python",
   "name": "python3"
  },
  "language_info": {
   "codemirror_mode": {
    "name": "ipython",
    "version": 3
   },
   "file_extension": ".py",
   "mimetype": "text/x-python",
   "name": "python",
   "nbconvert_exporter": "python",
   "pygments_lexer": "ipython3",
   "version": "3.13.1"
  }
 },
 "nbformat": 4,
 "nbformat_minor": 5
}
