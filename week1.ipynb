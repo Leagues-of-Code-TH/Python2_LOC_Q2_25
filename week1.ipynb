{
 "cells": [
  {
   "cell_type": "markdown",
   "id": "8cb47554",
   "metadata": {},
   "source": [
    "dsfdskfkdkjdkss"
   ]
  },
  {
   "cell_type": "code",
   "execution_count": 3,
   "id": "32493592",
   "metadata": {},
   "outputs": [
    {
     "name": "stdout",
     "output_type": "stream",
     "text": [
      "Hello World\n"
     ]
    }
   ],
   "source": [
    "print(\"Hello World\")"
   ]
  },
  {
   "cell_type": "code",
   "execution_count": 4,
   "id": "2e629b04",
   "metadata": {},
   "outputs": [
    {
     "name": "stdout",
     "output_type": "stream",
     "text": [
      "0\n",
      "1\n",
      "2\n",
      "3\n",
      "4\n",
      "5\n",
      "6\n",
      "7\n",
      "8\n",
      "9\n"
     ]
    }
   ],
   "source": [
    "for i in range(10):\n",
    "    print(i)"
   ]
  },
  {
   "cell_type": "markdown",
   "id": "068f0413",
   "metadata": {},
   "source": [
    "## ทวนเนื้อหาเลเวล 1"
   ]
  },
  {
   "cell_type": "code",
   "execution_count": 14,
   "id": "6a20790a",
   "metadata": {},
   "outputs": [
    {
     "name": "stdout",
     "output_type": "stream",
     "text": [
      "o\n",
      "!\n",
      "!\n"
     ]
    }
   ],
   "source": [
    "s = \"\" # double quote\n",
    "s = '' # single quote \n",
    "s = 'Hello'\n",
    "s = '2'\n",
    "n = 2\n",
    "\n",
    "multiline_str = \"\"\"\n",
    "fgdsljkng\n",
    "fdskfjd\n",
    "fdskj\n",
    "fdkl\n",
    "\"\"\"\n",
    "\n",
    "s = \"\"\"Hello \\n\n",
    "\"\"\"\n",
    "\n",
    "len(s)\n",
    "\n",
    "# indexing (ได้หนึ่งตัว)\n",
    "s = \"Hello World!\"\n",
    "print(s[7])\n",
    "print(s[len(s)-1])\n",
    "print(s[-1])\n",
    "# print(s[12])"
   ]
  },
  {
   "cell_type": "code",
   "execution_count": null,
   "id": "26f1a4f5",
   "metadata": {},
   "outputs": [],
   "source": [
    "d = {\"dog\": 4,\n",
    "     \"human\": 2,\n",
    "     \"cat\": 3,\n",
    "     \"ape\": 2}\n"
   ]
  },
  {
   "cell_type": "code",
   "execution_count": 36,
   "id": "14269d4d",
   "metadata": {},
   "outputs": [
    {
     "name": "stdout",
     "output_type": "stream",
     "text": [
      "['human', 'ape']\n"
     ]
    }
   ],
   "source": [
    "l = []\n",
    "for key in d:\n",
    "    if d[key] == 2:\n",
    "        l.append(key)\n",
    "print(l)"
   ]
  },
  {
   "cell_type": "markdown",
   "id": "95ec4ce8",
   "metadata": {},
   "source": [
    "break, pass, continue"
   ]
  },
  {
   "cell_type": "code",
   "execution_count": 40,
   "id": "4d1ac205",
   "metadata": {},
   "outputs": [
    {
     "name": "stdout",
     "output_type": "stream",
     "text": [
      "0\n",
      "1\n",
      "2\n",
      "3\n",
      "4\n",
      "5\n",
      "6\n"
     ]
    }
   ],
   "source": [
    "for i in range(10):\n",
    "    if i == 7:\n",
    "        break\n",
    "    print(i)"
   ]
  },
  {
   "cell_type": "code",
   "execution_count": 43,
   "id": "c3132129",
   "metadata": {},
   "outputs": [
    {
     "name": "stdout",
     "output_type": "stream",
     "text": [
      "0 0\n",
      "0 1\n",
      "1 0\n",
      "1 1\n"
     ]
    }
   ],
   "source": [
    "for i in range(3):\n",
    "    for j in range(3):\n",
    "        print(i, j)\n",
    "        if j == 1:\n",
    "            break\n",
    "    if i == 1:\n",
    "        break"
   ]
  },
  {
   "cell_type": "code",
   "execution_count": 56,
   "id": "26bfbace",
   "metadata": {},
   "outputs": [
    {
     "name": "stdout",
     "output_type": "stream",
     "text": [
      "dsji\n",
      "สวัสดี\n",
      "0\n",
      "1\n",
      "dsji\n",
      "สวัสดี\n",
      "2\n",
      "3\n",
      "dsji\n",
      "สวัสดี\n",
      "4\n",
      "5\n",
      "dsji\n",
      "สวัสดี\n",
      "6\n",
      "7\n"
     ]
    }
   ],
   "source": [
    "for i in range(8):\n",
    "    if i % 2 == 0:\n",
    "        print(\"dsji\")\n",
    "        pass\n",
    "        print(\"สวัสดี\")\n",
    "    print(i)"
   ]
  },
  {
   "cell_type": "code",
   "execution_count": 51,
   "id": "abba5e97",
   "metadata": {},
   "outputs": [
    {
     "name": "stdout",
     "output_type": "stream",
     "text": [
      "1\n",
      "3\n",
      "5\n",
      "7\n"
     ]
    }
   ],
   "source": [
    "for i in range(8):\n",
    "    if i % 2 == 0:\n",
    "        continue\n",
    "    print(i)"
   ]
  },
  {
   "cell_type": "markdown",
   "id": "4c73eb16",
   "metadata": {},
   "source": [
    "## Import"
   ]
  },
  {
   "cell_type": "markdown",
   "id": "dc7a0bed",
   "metadata": {},
   "source": [
    "built-in library \n",
    "\n",
    "external library"
   ]
  },
  {
   "cell_type": "code",
   "execution_count": null,
   "id": "dea24375",
   "metadata": {},
   "outputs": [],
   "source": [
    "import math\n",
    "import math as m\n",
    "\n",
    "from math import pi\n",
    "from math import sin, cos, tan, radians\n",
    "from math import pi as P\n",
    "\n",
    "from math import * # ไม่แนะนำ"
   ]
  },
  {
   "cell_type": "code",
   "execution_count": 15,
   "id": "e83e0ce4",
   "metadata": {},
   "outputs": [
    {
     "name": "stdout",
     "output_type": "stream",
     "text": [
      "3.141592653589793\n",
      "3.141592653589793\n",
      "3.141592653589793\n",
      "3.141592653589793\n"
     ]
    }
   ],
   "source": [
    "print(math.pi)\n",
    "print(m.pi)\n",
    "print(pi)\n",
    "print(P)"
   ]
  },
  {
   "cell_type": "code",
   "execution_count": 20,
   "id": "b449e12c",
   "metadata": {},
   "outputs": [
    {
     "data": {
      "text/plain": [
       "0.8660254037844386"
      ]
     },
     "execution_count": 20,
     "metadata": {},
     "output_type": "execute_result"
    }
   ],
   "source": [
    "sin(radians(60))"
   ]
  },
  {
   "cell_type": "markdown",
   "id": "09508ebf",
   "metadata": {},
   "source": [
    "### Random"
   ]
  },
  {
   "cell_type": "code",
   "execution_count": 21,
   "id": "c3079d71",
   "metadata": {},
   "outputs": [],
   "source": [
    "import random"
   ]
  },
  {
   "cell_type": "code",
   "execution_count": 225,
   "id": "e28cd37b",
   "metadata": {},
   "outputs": [
    {
     "data": {
      "text/plain": [
       "5.603229088612951"
      ]
     },
     "execution_count": 225,
     "metadata": {},
     "output_type": "execute_result"
    }
   ],
   "source": [
    "random.randint(1, 10)\n",
    "random.randrange(2, 10, 2) # 2, 4 ,6 ,8\n",
    "random.random() # 0-1\n",
    "(random.random() * 5) + 5 # 5-10"
   ]
  },
  {
   "cell_type": "code",
   "execution_count": 301,
   "id": "c1d3d469",
   "metadata": {},
   "outputs": [],
   "source": [
    "random.seed(0)"
   ]
  },
  {
   "cell_type": "code",
   "execution_count": 302,
   "id": "a04428f9",
   "metadata": {},
   "outputs": [
    {
     "data": {
      "text/plain": [
       "885441"
      ]
     },
     "execution_count": 302,
     "metadata": {},
     "output_type": "execute_result"
    }
   ],
   "source": [
    "random.randint(1, 1000000)"
   ]
  },
  {
   "cell_type": "code",
   "execution_count": 347,
   "id": "6c80de1d",
   "metadata": {},
   "outputs": [
    {
     "data": {
      "text/plain": [
       "['human', 'dog']"
      ]
     },
     "execution_count": 347,
     "metadata": {},
     "output_type": "execute_result"
    }
   ],
   "source": [
    "l = [\"dog\", \"cat\", \"human\"]\n",
    "random.choice(l)\n",
    "random.choices(l, k=2)"
   ]
  },
  {
   "cell_type": "markdown",
   "id": "6199106d",
   "metadata": {},
   "source": [
    "### Time"
   ]
  },
  {
   "cell_type": "code",
   "execution_count": 348,
   "id": "79d90b21",
   "metadata": {},
   "outputs": [],
   "source": [
    "import time"
   ]
  },
  {
   "cell_type": "code",
   "execution_count": 350,
   "id": "48b6d1ef",
   "metadata": {},
   "outputs": [
    {
     "data": {
      "text/plain": [
       "-25200"
      ]
     },
     "execution_count": 350,
     "metadata": {},
     "output_type": "execute_result"
    }
   ],
   "source": [
    "time.timezone"
   ]
  },
  {
   "cell_type": "code",
   "execution_count": null,
   "id": "fabb0e9c",
   "metadata": {},
   "outputs": [
    {
     "data": {
      "text/plain": [
       "7.0"
      ]
     },
     "execution_count": 351,
     "metadata": {},
     "output_type": "execute_result"
    }
   ],
   "source": [
    "25200 / (60 * 60)"
   ]
  },
  {
   "cell_type": "code",
   "execution_count": null,
   "id": "801f19cd",
   "metadata": {},
   "outputs": [
    {
     "name": "stdout",
     "output_type": "stream",
     "text": [
      "Hello\n",
      "Hello\n"
     ]
    }
   ],
   "source": [
    "print(\"Hello\")\n",
    "time.sleep(1) \n",
    "print(\"Hello\")"
   ]
  },
  {
   "cell_type": "code",
   "execution_count": 422,
   "id": "b0a31339",
   "metadata": {},
   "outputs": [
    {
     "name": "stdout",
     "output_type": "stream",
     "text": [
      "4.7341530323028564\n"
     ]
    }
   ],
   "source": [
    "t1 = time.time()\n",
    "s = 45**4000000\n",
    "t2 = time.time()\n",
    "print(t2-t1)"
   ]
  },
  {
   "cell_type": "markdown",
   "id": "85951f94",
   "metadata": {},
   "source": [
    "### os"
   ]
  },
  {
   "cell_type": "code",
   "execution_count": 423,
   "id": "9e89427d",
   "metadata": {},
   "outputs": [],
   "source": [
    "import os"
   ]
  },
  {
   "cell_type": "code",
   "execution_count": 424,
   "id": "ac4b3e79",
   "metadata": {},
   "outputs": [
    {
     "data": {
      "text/plain": [
       "'/Users/vetitk/Coding/Python2_LOC_Q2_25'"
      ]
     },
     "execution_count": 424,
     "metadata": {},
     "output_type": "execute_result"
    }
   ],
   "source": [
    "os.getcwd() # current working directory"
   ]
  },
  {
   "cell_type": "code",
   "execution_count": 426,
   "id": "c44b27c3",
   "metadata": {},
   "outputs": [
    {
     "data": {
      "text/plain": [
       "8"
      ]
     },
     "execution_count": 426,
     "metadata": {},
     "output_type": "execute_result"
    }
   ],
   "source": [
    "os.cpu_count()"
   ]
  },
  {
   "cell_type": "code",
   "execution_count": 434,
   "id": "b2bafd03",
   "metadata": {},
   "outputs": [],
   "source": [
    "os.makedirs('ทดสอบ2', exist_ok=True)"
   ]
  },
  {
   "cell_type": "code",
   "execution_count": 439,
   "id": "9215b019",
   "metadata": {},
   "outputs": [
    {
     "data": {
      "text/plain": [
       "0"
      ]
     },
     "execution_count": 439,
     "metadata": {},
     "output_type": "execute_result"
    }
   ],
   "source": [
    "os.system('cp test.py ทดสอบ2')"
   ]
  }
 ],
 "metadata": {
  "kernelspec": {
   "display_name": "python3",
   "language": "python",
   "name": "python3"
  },
  "language_info": {
   "codemirror_mode": {
    "name": "ipython",
    "version": 3
   },
   "file_extension": ".py",
   "mimetype": "text/x-python",
   "name": "python",
   "nbconvert_exporter": "python",
   "pygments_lexer": "ipython3",
   "version": "3.13.1"
  }
 },
 "nbformat": 4,
 "nbformat_minor": 5
}
