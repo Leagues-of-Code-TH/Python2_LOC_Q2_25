{
 "cells": [
  {
   "cell_type": "markdown",
   "id": "01370218",
   "metadata": {},
   "source": [
    "# Week 6: OOP (Object Orientied Programming)"
   ]
  },
  {
   "cell_type": "markdown",
   "id": "10ccbeaf",
   "metadata": {},
   "source": [
    "การเขียนโปรแกรมเชิงวัตถุ"
   ]
  },
  {
   "cell_type": "code",
   "execution_count": 4,
   "id": "1e54ed92",
   "metadata": {},
   "outputs": [
    {
     "data": {
      "text/plain": [
       "'\\nproperty/attribute\\n- value\\n- type\\n- is_positive\\n\\nfunction/method\\n+ - * / ** \\n'"
      ]
     },
     "execution_count": 4,
     "metadata": {},
     "output_type": "execute_result"
    }
   ],
   "source": [
    "2\n",
    "\"\"\"\n",
    "property/attribute\n",
    "- value\n",
    "- type\n",
    "- is_positive\n",
    "\n",
    "function/method\n",
    "+ - * / ** \n",
    "\"\"\""
   ]
  },
  {
   "cell_type": "code",
   "execution_count": null,
   "id": "617ef501",
   "metadata": {},
   "outputs": [],
   "source": [
    "class Person:\n",
    "    pass\n",
    "\n",
    "x = Person()\n",
    "y = Person()\n",
    "z = Person()"
   ]
  },
  {
   "cell_type": "code",
   "execution_count": 10,
   "id": "87294635",
   "metadata": {},
   "outputs": [
    {
     "name": "stdout",
     "output_type": "stream",
     "text": [
      "14\n",
      "14\n",
      "14\n"
     ]
    }
   ],
   "source": [
    "class Person:\n",
    "    name = \"Mark\"\n",
    "    age = 14\n",
    "\n",
    "a = Person()\n",
    "b = Person()\n",
    "c = Person()\n",
    "print(a.age)\n",
    "print(b.age)\n",
    "print(c.age)"
   ]
  },
  {
   "cell_type": "code",
   "execution_count": 20,
   "id": "94da108c",
   "metadata": {},
   "outputs": [
    {
     "name": "stdout",
     "output_type": "stream",
     "text": [
      "Hello\n"
     ]
    }
   ],
   "source": [
    "class Person:\n",
    "    # property/attribute\n",
    "    name = \"Mark\"\n",
    "    age = 14\n",
    "    # method\n",
    "    def greet(self):\n",
    "        print(\"Hello\")\n",
    "        \n",
    "a = Person()\n",
    "a.greet()"
   ]
  },
  {
   "cell_type": "code",
   "execution_count": 22,
   "id": "98806ae7",
   "metadata": {},
   "outputs": [
    {
     "name": "stdout",
     "output_type": "stream",
     "text": [
      "Click\n",
      "Click\n",
      "Click\n",
      "Click\n",
      "Click\n",
      "Click\n",
      "Click\n"
     ]
    }
   ],
   "source": [
    "class Mouse:\n",
    "    color = \"black\"\n",
    "    brand = \"LogiTech\"\n",
    "    price = 2490\n",
    "    \n",
    "    def click(self, number: int):\n",
    "        for i in range(number):\n",
    "            print(\"Click\")\n",
    "    \n",
    "    def scroll(self):\n",
    "        print(\"Scrolling..\")\n",
    "\n",
    "a = Mouse()\n",
    "a.click(7)"
   ]
  },
  {
   "cell_type": "code",
   "execution_count": null,
   "id": "fe8e3325",
   "metadata": {},
   "outputs": [
    {
     "data": {
      "text/plain": [
       "22"
      ]
     },
     "execution_count": 23,
     "metadata": {},
     "output_type": "execute_result"
    }
   ],
   "source": [
    "class Phone:\n",
    "    color = 'purple'\n",
    "    brand = 'apple'\n",
    "    model = 11\n",
    "    ios = 18\n",
    "    broken = False\n",
    "    \n",
    "    def turn_on(self):\n",
    "        print('warp')\n",
    "        \n",
    "    def use_calculator(self, *args):\n",
    "        plus=0\n",
    "        for i in args:\n",
    "          plus=plus+i\n",
    "        return plus\n",
    "    \n",
    "    def open_camera(self):\n",
    "        print('say cheeseeeeeee')\n",
    "        \n",
    "    def turn_flashlight(self):\n",
    "        print('lumos')\n",
    "        \n",
    "x = Phone()\n",
    "y = Phone()\n",
    "x.use_calculator(4,5,6,7)"
   ]
  },
  {
   "cell_type": "code",
   "execution_count": null,
   "id": "a0d14876",
   "metadata": {},
   "outputs": [],
   "source": []
  }
 ],
 "metadata": {
  "kernelspec": {
   "display_name": "python3",
   "language": "python",
   "name": "python3"
  },
  "language_info": {
   "codemirror_mode": {
    "name": "ipython",
    "version": 3
   },
   "file_extension": ".py",
   "mimetype": "text/x-python",
   "name": "python",
   "nbconvert_exporter": "python",
   "pygments_lexer": "ipython3",
   "version": "3.13.1"
  }
 },
 "nbformat": 4,
 "nbformat_minor": 5
}
