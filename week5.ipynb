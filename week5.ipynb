{
 "cells": [
  {
   "cell_type": "markdown",
   "id": "80a14422",
   "metadata": {},
   "source": [
    "# Week 5\n",
    "Global Local Scope\n",
    "*args, **kwargs, default argument"
   ]
  },
  {
   "cell_type": "code",
   "execution_count": 8,
   "id": "240b1d2e",
   "metadata": {},
   "outputs": [
    {
     "ename": "NameError",
     "evalue": "name 'x' is not defined",
     "output_type": "error",
     "traceback": [
      "\u001b[0;31m---------------------------------------------------------------------------\u001b[0m",
      "\u001b[0;31mNameError\u001b[0m                                 Traceback (most recent call last)",
      "Cell \u001b[0;32mIn[8], line 7\u001b[0m\n\u001b[1;32m      4\u001b[0m     \u001b[38;5;28mprint\u001b[39m(x)\n\u001b[1;32m      6\u001b[0m \u001b[38;5;66;03m# Global scope\u001b[39;00m\n\u001b[0;32m----> 7\u001b[0m \u001b[38;5;28mprint\u001b[39m(\u001b[43mx\u001b[49m)\n",
      "\u001b[0;31mNameError\u001b[0m: name 'x' is not defined"
     ]
    }
   ],
   "source": [
    "def f(x):\n",
    "    # Local Variable\n",
    "    x += 2\n",
    "    print(x)\n",
    "    \n",
    "# Global scope\n",
    "print(x)"
   ]
  },
  {
   "cell_type": "code",
   "execution_count": null,
   "id": "78c839e3",
   "metadata": {},
   "outputs": [
    {
     "name": "stdout",
     "output_type": "stream",
     "text": [
      "4\n",
      "5\n"
     ]
    }
   ],
   "source": [
    "# Global\n",
    "x = 5\n",
    "def f(x):\n",
    "    # Local\n",
    "    x += 2\n",
    "    print(x)\n",
    "    \n",
    "f(2)\n",
    "print(x) # Global"
   ]
  },
  {
   "cell_type": "code",
   "execution_count": 14,
   "id": "eb35f765",
   "metadata": {},
   "outputs": [
    {
     "name": "stdout",
     "output_type": "stream",
     "text": [
      "6\n"
     ]
    }
   ],
   "source": [
    "y = 6 # Global\n",
    "def f():\n",
    "    print(y)\n",
    "\n",
    "f()"
   ]
  },
  {
   "cell_type": "code",
   "execution_count": null,
   "id": "a3d822f2",
   "metadata": {},
   "outputs": [
    {
     "ename": "UnboundLocalError",
     "evalue": "cannot access local variable 'z' where it is not associated with a value",
     "output_type": "error",
     "traceback": [
      "\u001b[0;31m---------------------------------------------------------------------------\u001b[0m",
      "\u001b[0;31mUnboundLocalError\u001b[0m                         Traceback (most recent call last)",
      "Cell \u001b[0;32mIn[12], line 7\u001b[0m\n\u001b[1;32m      4\u001b[0m     z \u001b[38;5;241m+\u001b[39m\u001b[38;5;241m=\u001b[39m \u001b[38;5;241m2\u001b[39m\n\u001b[1;32m      5\u001b[0m     \u001b[38;5;28mprint\u001b[39m(z)\n\u001b[0;32m----> 7\u001b[0m \u001b[43mf\u001b[49m\u001b[43m(\u001b[49m\u001b[43m)\u001b[49m\n\u001b[1;32m      8\u001b[0m \u001b[38;5;28mprint\u001b[39m(z)\n",
      "Cell \u001b[0;32mIn[12], line 4\u001b[0m, in \u001b[0;36mf\u001b[0;34m()\u001b[0m\n\u001b[1;32m      3\u001b[0m \u001b[38;5;28;01mdef\u001b[39;00m\u001b[38;5;250m \u001b[39m\u001b[38;5;21mf\u001b[39m():\n\u001b[0;32m----> 4\u001b[0m     \u001b[43mz\u001b[49m \u001b[38;5;241m+\u001b[39m\u001b[38;5;241m=\u001b[39m \u001b[38;5;241m2\u001b[39m\n\u001b[1;32m      5\u001b[0m     \u001b[38;5;28mprint\u001b[39m(z)\n",
      "\u001b[0;31mUnboundLocalError\u001b[0m: cannot access local variable 'z' where it is not associated with a value"
     ]
    }
   ],
   "source": [
    "z = 6   # Global\n",
    "def f():\n",
    "    z += 2\n",
    "    print(z)\n",
    "\n",
    "f()\n",
    "print(z)"
   ]
  },
  {
   "cell_type": "code",
   "execution_count": null,
   "id": "cd6bd965",
   "metadata": {},
   "outputs": [
    {
     "name": "stdout",
     "output_type": "stream",
     "text": [
      "8\n"
     ]
    }
   ],
   "source": [
    "z = 6   # Global\n",
    "def f():\n",
    "    global z\n",
    "    z += 2\n",
    "    print(z)\n",
    "\n",
    "f()"
   ]
  },
  {
   "cell_type": "code",
   "execution_count": null,
   "id": "d08361db",
   "metadata": {},
   "outputs": [
    {
     "name": "stdout",
     "output_type": "stream",
     "text": [
      "hard\n"
     ]
    }
   ],
   "source": [
    "difficulty = \"easy\"\n",
    "def change_game_settings(mode: str):\n",
    "    global difficulty\n",
    "    difficulty = mode\n",
    "    \n",
    "    \n",
    "\n",
    "change_game_settings(\"hard\")\n",
    "print(difficulty)"
   ]
  },
  {
   "cell_type": "code",
   "execution_count": 24,
   "id": "63cd4347",
   "metadata": {},
   "outputs": [
    {
     "ename": "NameError",
     "evalue": "name 'a' is not defined",
     "output_type": "error",
     "traceback": [
      "\u001b[0;31m---------------------------------------------------------------------------\u001b[0m",
      "\u001b[0;31mNameError\u001b[0m                                 Traceback (most recent call last)",
      "Cell \u001b[0;32mIn[24], line 6\u001b[0m\n\u001b[1;32m      3\u001b[0m     \u001b[38;5;28;01mreturn\u001b[39;00m a\n\u001b[1;32m      5\u001b[0m f()\n\u001b[0;32m----> 6\u001b[0m \u001b[38;5;28mprint\u001b[39m(\u001b[43ma\u001b[49m)\n",
      "\u001b[0;31mNameError\u001b[0m: name 'a' is not defined"
     ]
    }
   ],
   "source": [
    "def f():\n",
    "    a = 5\n",
    "    return a\n",
    "\n",
    "f()\n",
    "print(a)"
   ]
  },
  {
   "cell_type": "markdown",
   "id": "00f8a828",
   "metadata": {},
   "source": [
    "## default parameters, *args, **kwargs"
   ]
  },
  {
   "cell_type": "code",
   "execution_count": 30,
   "id": "1c943683",
   "metadata": {},
   "outputs": [
    {
     "data": {
      "text/plain": [
       "314.1592653589793"
      ]
     },
     "execution_count": 30,
     "metadata": {},
     "output_type": "execute_result"
    }
   ],
   "source": [
    "import math\n",
    "def calculate_area(radius=7) -> float:\n",
    "    area = math.pi * (radius ** 2)\n",
    "    return area\n",
    "\n",
    "calculate_area(10)"
   ]
  },
  {
   "cell_type": "code",
   "execution_count": 38,
   "id": "5c8cd37b",
   "metadata": {},
   "outputs": [
    {
     "ename": "SyntaxError",
     "evalue": "parameter without a default follows parameter with a default (1654348492.py, line 1)",
     "output_type": "error",
     "traceback": [
      "\u001b[0;36m  Cell \u001b[0;32mIn[38], line 1\u001b[0;36m\u001b[0m\n\u001b[0;31m    def product(a=1, b, c=4):\u001b[0m\n\u001b[0m                     ^\u001b[0m\n\u001b[0;31mSyntaxError\u001b[0m\u001b[0;31m:\u001b[0m parameter without a default follows parameter with a default\n"
     ]
    }
   ],
   "source": [
    "def product(a=1, b, c=4):\n",
    "    return a * b * c\n",
    "\n",
    "product(6)"
   ]
  },
  {
   "cell_type": "markdown",
   "id": "ecd6ead6",
   "metadata": {},
   "source": [
    "__Non-default Variable ห้ามอยู่หลัง Default Variable เด็ดขาด__ \\\n",
    "__Positional Argument ห้ามอยู่หลัง Keyword Argument เด็ดขาด__"
   ]
  },
  {
   "cell_type": "code",
   "execution_count": null,
   "id": "814661dc",
   "metadata": {},
   "outputs": [
    {
     "ename": "SyntaxError",
     "evalue": "positional argument follows keyword argument (2645531550.py, line 4)",
     "output_type": "error",
     "traceback": [
      "\u001b[0;36m  Cell \u001b[0;32mIn[40], line 4\u001b[0;36m\u001b[0m\n\u001b[0;31m    product(a=4, 5, c=6)\u001b[0m\n\u001b[0m                       ^\u001b[0m\n\u001b[0;31mSyntaxError\u001b[0m\u001b[0;31m:\u001b[0m positional argument follows keyword argument\n"
     ]
    }
   ],
   "source": [
    "def product(a, b=1, c=4):\n",
    "    return a * b * c\n",
    "\n",
    "product(a=5, 6, 7)"
   ]
  },
  {
   "cell_type": "code",
   "execution_count": null,
   "id": "56cacbd8",
   "metadata": {},
   "outputs": [
    {
     "data": {
      "text/plain": [
       "120"
      ]
     },
     "execution_count": 42,
     "metadata": {},
     "output_type": "execute_result"
    }
   ],
   "source": [
    "def product(a, b, c):\n",
    "    return a * b * c\n",
    "\n",
    "product(5, 3, c=8)"
   ]
  },
  {
   "cell_type": "code",
   "execution_count": null,
   "id": "182d18a3",
   "metadata": {},
   "outputs": [
    {
     "data": {
      "text/plain": [
       "15"
      ]
     },
     "execution_count": 49,
     "metadata": {},
     "output_type": "execute_result"
    }
   ],
   "source": [
    "def sum(a: int, b: int, c: int, d: int=5, e: int=6) -> int:\n",
    "    return a + b + c + d + e\n",
    "\n",
    "sum(1, 2, 3, e=4)"
   ]
  },
  {
   "cell_type": "markdown",
   "id": "99a18a77",
   "metadata": {},
   "source": [
    "### *args, **kwargs"
   ]
  },
  {
   "cell_type": "code",
   "execution_count": 3,
   "id": "82748ef8",
   "metadata": {},
   "outputs": [
    {
     "name": "stdout",
     "output_type": "stream",
     "text": [
      "(1, 2, 3, 4)\n"
     ]
    },
    {
     "data": {
      "text/plain": [
       "24"
      ]
     },
     "execution_count": 3,
     "metadata": {},
     "output_type": "execute_result"
    }
   ],
   "source": [
    "def product(*args):\n",
    "    print(args)\n",
    "    result = 1 # ประกาศตัวแปรเก็บผลลัพธ์\n",
    "    for number in args: # for loop ตัวใน args\n",
    "        result = result * number # คูณตัวที่วนลูปเข้าไปที่ตัวแปรที่เราประกาศ\n",
    "    return result\n",
    "    \n",
    "product(1,2,3,4)"
   ]
  },
  {
   "cell_type": "code",
   "execution_count": 10,
   "id": "e0bd1d93",
   "metadata": {},
   "outputs": [
    {
     "name": "stdout",
     "output_type": "stream",
     "text": [
      "4\n"
     ]
    }
   ],
   "source": [
    "# การบ้าน\n",
    "def sum(*args):\n",
    "    result = 0\n",
    "    for number in args:\n",
    "        result = result + number\n",
    "    return result\n",
    "\n",
    "sum(1,2,3,4)\n",
    "\n",
    "\n",
    "def gcd_diy(*args):\n",
    "    start=max(args)\n",
    "    for num in range(start,0,-1):\n",
    "        is_indivisible = False\n",
    "        for i in args:\n",
    "            if i%num!=0:\n",
    "                is_indivisible = True\n",
    "                break\n",
    "        if not is_indivisible:\n",
    "            print(num)\n",
    "            break\n",
    "        \n",
    "gcd_diy(52, 80, 96, 28)\n",
    "    "
   ]
  },
  {
   "cell_type": "markdown",
   "id": "31b443df",
   "metadata": {},
   "source": [
    "$gcd(a,b,c,d)=gcd(gcd(gcd(a,b),c),d)$"
   ]
  },
  {
   "cell_type": "code",
   "execution_count": null,
   "id": "c3223d31",
   "metadata": {},
   "outputs": [
    {
     "data": {
      "text/plain": [
       "2"
      ]
     },
     "execution_count": 18,
     "metadata": {},
     "output_type": "execute_result"
    }
   ],
   "source": [
    "def gcd_euclidean(x, y):\n",
    "    while y != 0:\n",
    "        x, y = y, x % y\n",
    "\n",
    "    return x\n",
    "\n",
    "def gcd_diy2(*args):\n",
    "    result = gcd_euclidean(args[0], args[1])\n",
    "    for number in args[2:]:\n",
    "        result = gcd_euclidean(result, number)\n",
    "    return result\n",
    "    \n",
    "gcd_diy2(56, 80, 96, 28, 18, 24, 36, 32)\n"
   ]
  },
  {
   "cell_type": "code",
   "execution_count": 60,
   "id": "7df68d19",
   "metadata": {},
   "outputs": [
    {
     "name": "stdout",
     "output_type": "stream",
     "text": [
      "{'a': 1, 'b': 2, 'c': 3, 'd': 4, 'vetit': 161}\n",
      "161\n"
     ]
    }
   ],
   "source": [
    "def f(**kwargs):\n",
    "    print(kwargs)\n",
    "    print(kwargs[\"vetit\"])\n",
    "    \n",
    "f(a=1, b=2, c=3, d=4, vetit=161)"
   ]
  },
  {
   "cell_type": "markdown",
   "id": "398fedc2",
   "metadata": {},
   "source": [
    "## ผสมรวมสิ่งที่เรียนมา"
   ]
  },
  {
   "cell_type": "code",
   "execution_count": null,
   "id": "7d92f1b2",
   "metadata": {},
   "outputs": [
    {
     "name": "stdout",
     "output_type": "stream",
     "text": [
      "Vetit\n",
      "23\n",
      "52\n",
      "('a', 'b', 'c', 'd')\n",
      "False\n",
      "female\n",
      "{'k': 'k', 'l': 'l'}\n"
     ]
    }
   ],
   "source": [
    "def my_function(name: str,\n",
    "                age: int,\n",
    "                weight: float,\n",
    "                *args,\n",
    "                is_human: bool=True,\n",
    "                gender: str=\"male\",\n",
    "                **kwargs):\n",
    "    print(name)\n",
    "    print(age)\n",
    "    print(weight)\n",
    "    print(args)\n",
    "    print(is_human)\n",
    "    print(gender)\n",
    "    print(kwargs)\n",
    "\n",
    "my_function(\"Vetit\", 23, 52, 'a', 'b', 'c', 'd', gender='female', k=\"k\", l=\"l\", is_human=False)"
   ]
  },
  {
   "cell_type": "code",
   "execution_count": null,
   "id": "0b7d75b9",
   "metadata": {},
   "outputs": [],
   "source": []
  }
 ],
 "metadata": {
  "kernelspec": {
   "display_name": "python3",
   "language": "python",
   "name": "python3"
  },
  "language_info": {
   "codemirror_mode": {
    "name": "ipython",
    "version": 3
   },
   "file_extension": ".py",
   "mimetype": "text/x-python",
   "name": "python",
   "nbconvert_exporter": "python",
   "pygments_lexer": "ipython3",
   "version": "3.13.1"
  }
 },
 "nbformat": 4,
 "nbformat_minor": 5
}
