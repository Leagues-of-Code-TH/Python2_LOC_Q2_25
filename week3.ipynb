{
 "cells": [
  {
   "cell_type": "markdown",
   "id": "e92296b3",
   "metadata": {},
   "source": [
    "# Week 3: Functions"
   ]
  },
  {
   "cell_type": "markdown",
   "id": "302fd375",
   "metadata": {},
   "source": [
    "$f(x)=x^2$"
   ]
  },
  {
   "cell_type": "markdown",
   "id": "d17a3ed6",
   "metadata": {},
   "source": [
    "$f(2)=2^2=4$\n",
    "\n",
    "$f(-1)=(-1)^2=1$"
   ]
  },
  {
   "cell_type": "code",
   "execution_count": 1,
   "id": "fc28bb60",
   "metadata": {},
   "outputs": [],
   "source": [
    "def f(x):\n",
    "    result = x ** 2\n",
    "    return result"
   ]
  },
  {
   "cell_type": "code",
   "execution_count": 2,
   "id": "584afc86",
   "metadata": {},
   "outputs": [
    {
     "name": "stdout",
     "output_type": "stream",
     "text": [
      "16\n"
     ]
    }
   ],
   "source": [
    "print(f(4))"
   ]
  },
  {
   "cell_type": "code",
   "execution_count": 5,
   "id": "fd0c583a",
   "metadata": {},
   "outputs": [
    {
     "data": {
      "text/plain": [
       "1"
      ]
     },
     "execution_count": 5,
     "metadata": {},
     "output_type": "execute_result"
    }
   ],
   "source": [
    "f(-1)"
   ]
  },
  {
   "cell_type": "markdown",
   "id": "545f4b00",
   "metadata": {},
   "source": [
    "$f(x)=2x^3$\n",
    "\n",
    "$f(2)=16$"
   ]
  },
  {
   "cell_type": "code",
   "execution_count": 20,
   "id": "644d9350",
   "metadata": {},
   "outputs": [
    {
     "data": {
      "text/plain": [
       "16"
      ]
     },
     "execution_count": 20,
     "metadata": {},
     "output_type": "execute_result"
    }
   ],
   "source": [
    "def my_func(x):\n",
    "    result = 2 * (x ** 3)\n",
    "    return result\n",
    "\n",
    "my_func(2)"
   ]
  },
  {
   "cell_type": "markdown",
   "id": "b312c7dc",
   "metadata": {},
   "source": [
    "### ทำไมต้องเขียน Function\n",
    "เพื่อให้เป็นระเบียบ\n",
    "\n",
    "Reuse ได้"
   ]
  },
  {
   "cell_type": "markdown",
   "id": "ca09d473",
   "metadata": {},
   "source": [
    "Input: 0, 1, Many \\\n",
    "Output: 0, 1, Many"
   ]
  },
  {
   "cell_type": "code",
   "execution_count": 23,
   "id": "83177e12",
   "metadata": {},
   "outputs": [
    {
     "data": {
      "text/plain": [
       "125"
      ]
     },
     "execution_count": 23,
     "metadata": {},
     "output_type": "execute_result"
    }
   ],
   "source": [
    "# 1 input \\ 1 return\n",
    "def f(x):\n",
    "    result = x ** 3\n",
    "    return result\n",
    "\n",
    "f(5)"
   ]
  },
  {
   "cell_type": "code",
   "execution_count": null,
   "id": "11d0464c",
   "metadata": {},
   "outputs": [
    {
     "name": "stdout",
     "output_type": "stream",
     "text": [
      "None\n"
     ]
    }
   ],
   "source": [
    "# 0 return\n",
    "def square_of_x(x):\n",
    "    result = x ** 2\n",
    "\n",
    "print(square_of_x(2))"
   ]
  },
  {
   "cell_type": "code",
   "execution_count": null,
   "id": "c1b8b5d1",
   "metadata": {},
   "outputs": [
    {
     "data": {
      "text/plain": [
       "(2, 4, 6)"
      ]
     },
     "execution_count": 12,
     "metadata": {},
     "output_type": "execute_result"
    }
   ],
   "source": [
    "# Many returns\n",
    "def f(x):\n",
    "    return x, 2 * x, 3 * x\n",
    "\n",
    "f(2) # TUPLE!"
   ]
  },
  {
   "cell_type": "code",
   "execution_count": 26,
   "id": "f1a9700b",
   "metadata": {},
   "outputs": [
    {
     "name": "stdout",
     "output_type": "stream",
     "text": [
      "Hello\n"
     ]
    }
   ],
   "source": [
    "# 0 Input\n",
    "def greet():\n",
    "    print(\"Hello\")\n",
    "\n",
    "# greet(1)\n",
    "greet()"
   ]
  },
  {
   "cell_type": "code",
   "execution_count": 28,
   "id": "64fc2100",
   "metadata": {},
   "outputs": [
    {
     "data": {
      "text/plain": [
       "19.675166853130666"
      ]
     },
     "execution_count": 28,
     "metadata": {},
     "output_type": "execute_result"
    }
   ],
   "source": [
    "# Many Inputs\n",
    "def calculate_bmi(height_cm, weight_kg):\n",
    "    bmi = weight_kg / ((height_cm / 100) ** 2)\n",
    "    return bmi\n",
    "\n",
    "calculate_bmi(161, 51)"
   ]
  },
  {
   "cell_type": "markdown",
   "id": "0208d9a7",
   "metadata": {},
   "source": [
    "$\\Delta = \\frac{1}{2} \\times b \\times h$\n",
    "\n",
    "$\\circ = \\pi \\times r^2$"
   ]
  },
  {
   "cell_type": "code",
   "execution_count": 32,
   "id": "60e6e123",
   "metadata": {},
   "outputs": [
    {
     "data": {
      "text/plain": [
       "(153.93804002589985, 43.982297150257104)"
      ]
     },
     "execution_count": 32,
     "metadata": {},
     "output_type": "execute_result"
    }
   ],
   "source": [
    "import math\n",
    "def calculate_circle_area(r):\n",
    "    area = math.pi * r * r\n",
    "    perimeter = 2 * math.pi * r\n",
    "    return area, perimeter\n",
    "\n",
    "calculate_circle_area(7)"
   ]
  },
  {
   "cell_type": "markdown",
   "id": "d5e5a8ef",
   "metadata": {},
   "source": [
    "Heron's formula\n",
    "\n",
    "$\\Delta = \\sqrt{s(s-a)(s-b)(s-c)}$\n",
    "\n",
    "$s=\\frac{a+b+c}{2}$"
   ]
  },
  {
   "cell_type": "code",
   "execution_count": 33,
   "id": "138d93dc",
   "metadata": {},
   "outputs": [
    {
     "data": {
      "text/plain": [
       "6.0"
      ]
     },
     "execution_count": 33,
     "metadata": {},
     "output_type": "execute_result"
    }
   ],
   "source": [
    "def area_triangle(a, b, c):\n",
    "    s = (a+b+c) / 2\n",
    "    area = math.sqrt(s * (s-a) * (s-b) * (s-c))\n",
    "    return area\n",
    "\n",
    "area_triangle(3, 4, 5)"
   ]
  },
  {
   "cell_type": "markdown",
   "id": "8d17e9d7",
   "metadata": {},
   "source": [
    "## g.c.d (Greatest common divisor) ห.ร.ม\n",
    "\n",
    "$gcd(6,10) = 2$\n",
    "\n",
    "$gcd(12,8)=4$\n",
    "\n",
    "$gcd(16,40)=8$\n",
    "\n",
    "$gcd(7,9)=1$"
   ]
  },
  {
   "cell_type": "code",
   "execution_count": null,
   "id": "afedcf04",
   "metadata": {},
   "outputs": [
    {
     "name": "stdout",
     "output_type": "stream",
     "text": [
      "8\n"
     ]
    }
   ],
   "source": [
    "def gcd(x, y):\n",
    "    start = max(x, y)\n",
    "    for num in range(start, 0, -1):\n",
    "        if (x % num == 0) and (y % num == 0):\n",
    "            return num\n",
    "\n",
    "gcd(16,40)"
   ]
  },
  {
   "cell_type": "code",
   "execution_count": 49,
   "id": "55acca4d",
   "metadata": {},
   "outputs": [
    {
     "data": {
      "text/plain": [
       "8"
      ]
     },
     "execution_count": 49,
     "metadata": {},
     "output_type": "execute_result"
    }
   ],
   "source": [
    "def gcd_v2(x, y):\n",
    "    start = min(x, y)\n",
    "    for num in range(start, 0, -1):\n",
    "        if (x % num == 0) and (y % num == 0):\n",
    "            return num\n",
    "\n",
    "gcd(16,40)"
   ]
  },
  {
   "cell_type": "code",
   "execution_count": null,
   "id": "2dc42a0a",
   "metadata": {},
   "outputs": [],
   "source": [
    "def gcd_euclidean(x, y):\n",
    "    while y != 0:\n",
    "        x, y = y, x % y\n",
    "\n",
    "    return x"
   ]
  },
  {
   "cell_type": "code",
   "execution_count": 66,
   "id": "56e38b4c",
   "metadata": {},
   "outputs": [
    {
     "name": "stdout",
     "output_type": "stream",
     "text": [
      "1\n",
      "0.0002677440643310547\n"
     ]
    }
   ],
   "source": [
    "import time\n",
    "t1 = time.time()\n",
    "print(math.gcd(245680320, 17893459330, 473857, 432746))\n",
    "t2 = time.time()\n",
    "print(t2-t1)"
   ]
  },
  {
   "cell_type": "markdown",
   "id": "745b1f3a",
   "metadata": {},
   "source": [
    "## Least Common Multiple (l.c.m.) ค.ร.น"
   ]
  },
  {
   "cell_type": "markdown",
   "id": "783bff7c",
   "metadata": {},
   "source": [
    "$lcm(4, 5)=20$\n",
    "\n",
    "$lcm(4, 6)=12$"
   ]
  },
  {
   "cell_type": "code",
   "execution_count": 9,
   "id": "2741e3fc",
   "metadata": {},
   "outputs": [
    {
     "name": "stdout",
     "output_type": "stream",
     "text": [
      "0.00010085105895996094 0.14756512641906738 0.0002601146697998047 5.5789947509765625e-05\n"
     ]
    }
   ],
   "source": [
    "def lcm_v1(x, y):\n",
    "    for num in range(1, x * y + 1, 1):\n",
    "        if (num % x == 0) and (num % y == 0):\n",
    "            return num\n",
    "        \n",
    "def lcm_v2(x, y):\n",
    "    a = min(x, y)\n",
    "    for num in range(a, x * y + 1, a):\n",
    "        if (num % x == 0) and (num % y == 0):\n",
    "            return num\n",
    "\n",
    "def lcm_v3(x, y):\n",
    "    a = max(x, y)\n",
    "    for num in range(a, x * y + 1, a):\n",
    "        if (num % x == 0) and (num % y == 0):\n",
    "            return num\n",
    "\n",
    "import time\n",
    "import math\n",
    "t1 = time.time()\n",
    "# lcm_v1(47570, 4326)\n",
    "t2 = time.time()\n",
    "lcm_v2(4757000, 4326)\n",
    "t3 = time.time()\n",
    "lcm_v3(4757000, 4326)\n",
    "t4 = time.time()\n",
    "math.lcm(4757000, 4326)\n",
    "t5 = time.time()\n",
    "print(t2-t1, t3-t2, t4-t3, t5-t4)"
   ]
  },
  {
   "cell_type": "markdown",
   "id": "b12e24c0",
   "metadata": {},
   "source": [
    "$5.58 \\times 10^{-5}=0.0000558 = 55.8 \\mu s$"
   ]
  },
  {
   "cell_type": "markdown",
   "id": "ea71c930",
   "metadata": {},
   "source": [
    "### lcm-gcd identity\n",
    "$lcm(a,b) \\times gcd(a,b)=a \\times b$"
   ]
  },
  {
   "cell_type": "markdown",
   "id": "a2d3f6de",
   "metadata": {},
   "source": [
    "$lcm(4,6)=12$"
   ]
  },
  {
   "cell_type": "markdown",
   "id": "7a3aa701",
   "metadata": {},
   "source": [
    "$gcd(4,6)=2$"
   ]
  },
  {
   "cell_type": "markdown",
   "id": "7bbc9eea",
   "metadata": {},
   "source": [
    "$lcm(a,b)=\\frac{a \\times b}{gcd(a,b)}$"
   ]
  },
  {
   "cell_type": "code",
   "execution_count": null,
   "id": "505dc0fa",
   "metadata": {},
   "outputs": [],
   "source": [
    "def lcm_v4(x, y):\n",
    "    result = x * y / gcd_euclidean(x, y)\n",
    "    return result"
   ]
  }
 ],
 "metadata": {
  "kernelspec": {
   "display_name": "python3",
   "language": "python",
   "name": "python3"
  },
  "language_info": {
   "codemirror_mode": {
    "name": "ipython",
    "version": 3
   },
   "file_extension": ".py",
   "mimetype": "text/x-python",
   "name": "python",
   "nbconvert_exporter": "python",
   "pygments_lexer": "ipython3",
   "version": "3.13.1"
  }
 },
 "nbformat": 4,
 "nbformat_minor": 5
}
